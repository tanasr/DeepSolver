y_true = torch.Tensor(y_true)

net = LinearNet(2, 1) #in case of forward euler
criterion = nn.MSELoss() #size_average=False
optimizer = optim.SGD(net.parameters(),lr=10e-2)
loss_hist = []
# for iteration in range(int(len(y_true)-1)):
# for step in range(5):
#     y_pred = y0
#     idx = 0
net.zero_grad()
for iteration in range(int(len(y_true)/2-1)):
    # net.zero_grad()
    inputs = torch.Tensor([y_pred, f(None, y_pred)])
    y_pred = net(inputs)
    print('out: '+str(y_pred))
    loss = criterion(y_pred, y_true[idx+1])
    print('loss:'+str(loss))
    print('before'+str(net.layer1.weight.grad))
    loss.backward(retain_graph=False)
    print('after'+str(net.layer1.weight.grad))
    # print('ytrue: '+str(y_true[idx+1]))
    # loss.backward()
    optimizer.step()
    idx = idx+1
    print('loss after {0} iter = {1}'.format(iteration, loss))

    # loss_hist.append(loss)
    # print("Training loss after {0} epochs: {1}".format(e+1,loss_track/len(trainloader)))
    # optimizer.step()
    # loss_hist.append(loss)
    # print(loss)

plt.plot(loss_hist)
plt.show()